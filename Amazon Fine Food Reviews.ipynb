{
 "cells": [
  {
   "cell_type": "markdown",
   "metadata": {},
   "source": [
    "### Problem Description"
   ]
  },
  {
   "cell_type": "markdown",
   "metadata": {},
   "source": [
    "- This dataset consists of reviews of fine foods from amazon. The data span a period of more than 10 years, including all ~500,000 reviews up to October 2012.\n",
    "\n",
    "\n",
    "- what we want here is to make a model which classify every review and print an output saying that it's a positive review or negative review and we will use streamlit framework which is useful to create and share web data apps\n",
    "\n",
    "\n",
    "- dataset link: https://www.kaggle.com/snap/amazon-fine-food-reviews?select=Reviews.csv"
   ]
  },
  {
   "cell_type": "markdown",
   "metadata": {},
   "source": [
    "### Import Packages"
   ]
  },
  {
   "cell_type": "code",
   "execution_count": 79,
   "metadata": {
    "execution": {
     "iopub.execute_input": "2021-08-23T12:48:20.819472Z",
     "iopub.status.busy": "2021-08-23T12:48:20.818729Z",
     "iopub.status.idle": "2021-08-23T12:48:20.835731Z",
     "shell.execute_reply": "2021-08-23T12:48:20.834473Z",
     "shell.execute_reply.started": "2021-08-23T12:48:20.819418Z"
    }
   },
   "outputs": [],
   "source": [
    "# Add environment Packages paths to conda\n",
    "import os, sys\n",
    "# env_name = \"food_review\"\n",
    "# sys.path.append(f\"C:\\\\Environments\\\\{env_name}\\\\lib\\\\site-packages\\\\\")\n",
    "\n",
    "import pandas as pd\n",
    "import numpy as np\n",
    "\n",
    "# Text preprocessing packages\n",
    "import nltk # Text libarary\n",
    "# nltk.download('stopwords')\n",
    "import string # Removing special characters {#, @, ...}\n",
    "import re # Regex Package\n",
    "\n",
    "# Corpora is a group presenting multiple collections of text documents. A single collection is called corpus.\n",
    "from nltk.corpus import stopwords # Stopwords\n",
    "\n",
    "from nltk.stem import SnowballStemmer, WordNetLemmatizer # Stemmer & Lemmatizer\n",
    "#from gensim.utils import simple_preprocess  # Text ==> List of Tokens\n",
    "\n",
    "# Text Embedding\n",
    "from sklearn.feature_extraction.text import TfidfVectorizer\n",
    "\n",
    "# Modelling\n",
    "from sklearn.model_selection import train_test_split\n",
    "from sklearn.ensemble import RandomForestClassifier\n",
    "from sklearn.metrics import accuracy_score\n",
    "\n",
    "# Saving Model\n",
    "import pickle\n",
    "\n",
    "# Visualization Packages\n",
    "import seaborn as sns\n",
    "import matplotlib.pyplot as plt\n",
    "sns.set(font_scale=1.3)\n",
    "%matplotlib inline"
   ]
  },
  {
   "cell_type": "markdown",
   "metadata": {},
   "source": [
    "### Read Dataset"
   ]
  },
  {
   "cell_type": "code",
   "execution_count": 80,
   "metadata": {
    "execution": {
     "iopub.execute_input": "2021-08-23T12:48:20.840437Z",
     "iopub.status.busy": "2021-08-23T12:48:20.839983Z",
     "iopub.status.idle": "2021-08-23T12:48:25.991655Z",
     "shell.execute_reply": "2021-08-23T12:48:25.990410Z",
     "shell.execute_reply.started": "2021-08-23T12:48:20.840388Z"
    }
   },
   "outputs": [
    {
     "name": "stdout",
     "output_type": "stream",
     "text": [
      "Wall time: 3.13 s\n"
     ]
    }
   ],
   "source": [
    "%%time\n",
    "df = pd.read_csv('The_Reviews.csv')"
   ]
  },
  {
   "cell_type": "code",
   "execution_count": 81,
   "metadata": {
    "execution": {
     "iopub.execute_input": "2021-08-23T12:48:25.994651Z",
     "iopub.status.busy": "2021-08-23T12:48:25.994197Z",
     "iopub.status.idle": "2021-08-23T12:48:26.001223Z",
     "shell.execute_reply": "2021-08-23T12:48:26.000270Z",
     "shell.execute_reply.started": "2021-08-23T12:48:25.994600Z"
    }
   },
   "outputs": [
    {
     "data": {
      "text/plain": [
       "'568,454 Review'"
      ]
     },
     "execution_count": 81,
     "metadata": {},
     "output_type": "execute_result"
    }
   ],
   "source": [
    "f\"{df.shape[0]:,} Review\""
   ]
  },
  {
   "cell_type": "code",
   "execution_count": 82,
   "metadata": {
    "execution": {
     "iopub.execute_input": "2021-08-23T12:48:26.003375Z",
     "iopub.status.busy": "2021-08-23T12:48:26.003003Z",
     "iopub.status.idle": "2021-08-23T12:48:26.087712Z",
     "shell.execute_reply": "2021-08-23T12:48:26.086591Z",
     "shell.execute_reply.started": "2021-08-23T12:48:26.003339Z"
    }
   },
   "outputs": [
    {
     "data": {
      "text/html": [
       "<div>\n",
       "<style scoped>\n",
       "    .dataframe tbody tr th:only-of-type {\n",
       "        vertical-align: middle;\n",
       "    }\n",
       "\n",
       "    .dataframe tbody tr th {\n",
       "        vertical-align: top;\n",
       "    }\n",
       "\n",
       "    .dataframe thead th {\n",
       "        text-align: right;\n",
       "    }\n",
       "</style>\n",
       "<table border=\"1\" class=\"dataframe\">\n",
       "  <thead>\n",
       "    <tr style=\"text-align: right;\">\n",
       "      <th></th>\n",
       "      <th>Text</th>\n",
       "      <th>Score</th>\n",
       "    </tr>\n",
       "  </thead>\n",
       "  <tbody>\n",
       "    <tr>\n",
       "      <th>0</th>\n",
       "      <td>I have bought several of the Vitality canned d...</td>\n",
       "      <td>5</td>\n",
       "    </tr>\n",
       "    <tr>\n",
       "      <th>1</th>\n",
       "      <td>Product arrived labeled as Jumbo Salted Peanut...</td>\n",
       "      <td>1</td>\n",
       "    </tr>\n",
       "    <tr>\n",
       "      <th>2</th>\n",
       "      <td>This is a confection that has been around a fe...</td>\n",
       "      <td>4</td>\n",
       "    </tr>\n",
       "    <tr>\n",
       "      <th>3</th>\n",
       "      <td>If you are looking for the secret ingredient i...</td>\n",
       "      <td>2</td>\n",
       "    </tr>\n",
       "    <tr>\n",
       "      <th>4</th>\n",
       "      <td>Great taffy at a great price.  There was a wid...</td>\n",
       "      <td>5</td>\n",
       "    </tr>\n",
       "  </tbody>\n",
       "</table>\n",
       "</div>"
      ],
      "text/plain": [
       "                                                Text  Score\n",
       "0  I have bought several of the Vitality canned d...      5\n",
       "1  Product arrived labeled as Jumbo Salted Peanut...      1\n",
       "2  This is a confection that has been around a fe...      4\n",
       "3  If you are looking for the secret ingredient i...      2\n",
       "4  Great taffy at a great price.  There was a wid...      5"
      ]
     },
     "execution_count": 82,
     "metadata": {},
     "output_type": "execute_result"
    }
   ],
   "source": [
    "cols = ['Text', 'Score']\n",
    "df_text = df[cols].copy()\n",
    "df_text.head()"
   ]
  },
  {
   "cell_type": "markdown",
   "metadata": {},
   "source": [
    "### Drop Duplicates\n",
    "Save the Cleaned data-frame also with the variable `df_text`"
   ]
  },
  {
   "cell_type": "code",
   "execution_count": 83,
   "metadata": {
    "execution": {
     "iopub.execute_input": "2021-08-23T12:48:26.091000Z",
     "iopub.status.busy": "2021-08-23T12:48:26.090520Z",
     "iopub.status.idle": "2021-08-23T12:48:26.946572Z",
     "shell.execute_reply": "2021-08-23T12:48:26.945216Z",
     "shell.execute_reply.started": "2021-08-23T12:48:26.090951Z"
    }
   },
   "outputs": [
    {
     "data": {
      "text/plain": [
       "174779"
      ]
     },
     "execution_count": 83,
     "metadata": {},
     "output_type": "execute_result"
    }
   ],
   "source": [
    "df_text.duplicated().sum()"
   ]
  },
  {
   "cell_type": "code",
   "execution_count": 84,
   "metadata": {
    "execution": {
     "iopub.execute_input": "2021-08-23T12:48:26.948814Z",
     "iopub.status.busy": "2021-08-23T12:48:26.948371Z",
     "iopub.status.idle": "2021-08-23T12:48:27.850687Z",
     "shell.execute_reply": "2021-08-23T12:48:27.849433Z",
     "shell.execute_reply.started": "2021-08-23T12:48:26.948766Z"
    }
   },
   "outputs": [],
   "source": [
    "df_text.drop_duplicates(inplace=True)\n",
    "df_text.reset_index(drop=True,inplace=True)"
   ]
  },
  {
   "cell_type": "code",
   "execution_count": 85,
   "metadata": {
    "execution": {
     "iopub.execute_input": "2021-08-23T12:48:27.960672Z",
     "iopub.status.busy": "2021-08-23T12:48:27.960332Z",
     "iopub.status.idle": "2021-08-23T12:48:28.623117Z",
     "shell.execute_reply": "2021-08-23T12:48:28.621974Z",
     "shell.execute_reply.started": "2021-08-23T12:48:27.960640Z"
    }
   },
   "outputs": [
    {
     "data": {
      "text/plain": [
       "0"
      ]
     },
     "execution_count": 85,
     "metadata": {},
     "output_type": "execute_result"
    }
   ],
   "source": [
    "df_text.duplicated().sum()\n"
   ]
  },
  {
   "cell_type": "markdown",
   "metadata": {},
   "source": [
    "### Target Variable Pre-Processing\n",
    "`target` will be \n",
    " - 0 if score < 3 \n",
    " - 1 otherwise"
   ]
  },
  {
   "cell_type": "code",
   "execution_count": 86,
   "metadata": {
    "execution": {
     "iopub.execute_input": "2021-08-23T12:48:28.625467Z",
     "iopub.status.busy": "2021-08-23T12:48:28.625144Z",
     "iopub.status.idle": "2021-08-23T12:48:28.884710Z",
     "shell.execute_reply": "2021-08-23T12:48:28.883600Z",
     "shell.execute_reply.started": "2021-08-23T12:48:28.625436Z"
    }
   },
   "outputs": [],
   "source": [
    "df_text['target'] = [0 if i <3  else 1 for i in df_text.Score ]"
   ]
  },
  {
   "cell_type": "markdown",
   "metadata": {},
   "source": [
    "#### Plot Countplot for target Variable"
   ]
  },
  {
   "cell_type": "code",
   "execution_count": 87,
   "metadata": {
    "execution": {
     "iopub.execute_input": "2021-08-23T12:48:28.886452Z",
     "iopub.status.busy": "2021-08-23T12:48:28.886134Z",
     "iopub.status.idle": "2021-08-23T12:48:29.034395Z",
     "shell.execute_reply": "2021-08-23T12:48:29.033080Z",
     "shell.execute_reply.started": "2021-08-23T12:48:28.886421Z"
    }
   },
   "outputs": [
    {
     "name": "stderr",
     "output_type": "stream",
     "text": [
      "D:\\Anaconda\\lib\\site-packages\\seaborn\\_decorators.py:36: FutureWarning: Pass the following variable as a keyword arg: x. From version 0.12, the only valid positional argument will be `data`, and passing other arguments without an explicit keyword will result in an error or misinterpretation.\n",
      "  warnings.warn(\n"
     ]
    },
    {
     "data": {
      "text/plain": [
       "<AxesSubplot:xlabel='target', ylabel='count'>"
      ]
     },
     "execution_count": 87,
     "metadata": {},
     "output_type": "execute_result"
    },
    {
     "data": {
      "image/png": "[encoded data removed]",
      "text/plain": [
       "<Figure size 432x288 with 1 Axes>"
      ]
     },
     "metadata": {
      "needs_background": "light"
     },
     "output_type": "display_data"
    }
   ],
   "source": [
    "sns.countplot(df_text['target'][:10000])"
   ]
  },
  {
   "cell_type": "markdown",
   "metadata": {},
   "source": [
    "Notice how such variance is huge ...   \n",
    "Then we need to down-sample such data ... by which both the positive and negative classes are balanced.\n",
    "\n",
    "### Balance Data Target"
   ]
  },
  {
   "cell_type": "code",
   "execution_count": 88,
   "metadata": {
    "execution": {
     "iopub.execute_input": "2021-08-23T12:48:29.036834Z",
     "iopub.status.busy": "2021-08-23T12:48:29.036380Z",
     "iopub.status.idle": "2021-08-23T12:48:29.146522Z",
     "shell.execute_reply": "2021-08-23T12:48:29.145290Z",
     "shell.execute_reply.started": "2021-08-23T12:48:29.036786Z"
    }
   },
   "outputs": [],
   "source": [
    "# Sample from positive reviews Same number of negative reviews\n",
    "\n",
    "#NEG_N it will store the size of negative reviews or zeros on the data frame\n",
    "NEG_N = df_text.target.value_counts()[0]\n",
    "#so, df_pos contains the positive reviews text or text with value equals to 1 in target\n",
    "df_pos = df_text[df_text['target'] == 1]['Text'].sample(NEG_N, replace=False)\n",
    "#now we will make a new dataframe where the size of positive reviews is same as the size of negative reviews\n",
    "df_text_balanced = pd.concat([df_text.iloc[df_pos.index], df_text[df_text.target == 0]])\n",
    "df_text_balanced.reset_index(drop=True,inplace=True)"
   ]
  },
  {
   "cell_type": "code",
   "execution_count": 89,
   "metadata": {
    "execution": {
     "iopub.execute_input": "2021-08-23T12:48:29.179718Z",
     "iopub.status.busy": "2021-08-23T12:48:29.179267Z",
     "iopub.status.idle": "2021-08-23T12:48:29.347321Z",
     "shell.execute_reply": "2021-08-23T12:48:29.346118Z",
     "shell.execute_reply.started": "2021-08-23T12:48:29.179668Z"
    }
   },
   "outputs": [
    {
     "name": "stderr",
     "output_type": "stream",
     "text": [
      "D:\\Anaconda\\lib\\site-packages\\seaborn\\_decorators.py:36: FutureWarning: Pass the following variable as a keyword arg: x. From version 0.12, the only valid positional argument will be `data`, and passing other arguments without an explicit keyword will result in an error or misinterpretation.\n",
      "  warnings.warn(\n"
     ]
    },
    {
     "data": {
      "text/plain": [
       "(0.0, 1500.0)"
      ]
     },
     "execution_count": 89,
     "metadata": {},
     "output_type": "execute_result"
    },
    {
     "data": {
      "image/png": "[encoded data removed]",
      "text/plain": [
       "<Figure size 432x288 with 1 Axes>"
      ]
     },
     "metadata": {
      "needs_background": "light"
     },
     "output_type": "display_data"
    }
   ],
   "source": [
    "sns.countplot(df_text_balanced['target'])\n",
    "plt.ylim(0,1500)"
   ]
  },
  {
   "cell_type": "markdown",
   "metadata": {},
   "source": [
    "### Text Pre-Processing"
   ]
  },
  {
   "cell_type": "code",
   "execution_count": 90,
   "metadata": {
    "execution": {
     "iopub.execute_input": "2021-08-23T12:48:29.348843Z",
     "iopub.status.busy": "2021-08-23T12:48:29.348579Z",
     "iopub.status.idle": "2021-08-23T12:48:29.354842Z",
     "shell.execute_reply": "2021-08-23T12:48:29.353697Z",
     "shell.execute_reply.started": "2021-08-23T12:48:29.348816Z"
    }
   },
   "outputs": [],
   "source": [
    "stop_words = list(stopwords.words('english'))\n",
    "stemmer = SnowballStemmer(\"english\")\n",
    "lemmatizer= WordNetLemmatizer()"
   ]
  },
  {
   "cell_type": "code",
   "execution_count": 91,
   "metadata": {
    "execution": {
     "iopub.execute_input": "2021-08-23T12:48:29.356519Z",
     "iopub.status.busy": "2021-08-23T12:48:29.356206Z",
     "iopub.status.idle": "2021-08-23T12:48:29.368245Z",
     "shell.execute_reply": "2021-08-23T12:48:29.367238Z",
     "shell.execute_reply.started": "2021-08-23T12:48:29.356489Z"
    }
   },
   "outputs": [],
   "source": [
    "#Removing every not from stop words\n",
    "stop_words.remove('not')\n",
    "for i in stop_words:\n",
    "    if \"n't\" or \"n'\" in i:\n",
    "        stop_words.remove(i)\n",
    "\n"
   ]
  },
  {
   "cell_type": "code",
   "execution_count": 92,
   "metadata": {
    "execution": {
     "iopub.execute_input": "2021-08-23T12:48:29.370054Z",
     "iopub.status.busy": "2021-08-23T12:48:29.369654Z",
     "iopub.status.idle": "2021-08-23T12:50:59.943668Z",
     "shell.execute_reply": "2021-08-23T12:50:59.942354Z",
     "shell.execute_reply.started": "2021-08-23T12:48:29.370016Z"
    }
   },
   "outputs": [],
   "source": [
    "def cleaning_text(Text):\n",
    "    #Removing Stop Words\n",
    "    Text=[i for i in str(Text).split() if i not in stop_words]\n",
    "    \n",
    "    #Removing special characters\n",
    "    Text=[re.sub('[^A-Za-z0-9]+', '', str(i)) for i in Text]\n",
    "\n",
    "\n",
    "    #lemmatizing each word\n",
    "    Text=[lemmatizer.lemmatize(y) for y in Text]\n",
    "    #print(Text)\n",
    "\n",
    "    #stemming each word\n",
    "    Text=[stemmer.stem(y) for y in Text]\n",
    "    \n",
    "    str1 = \" \" \n",
    "    Cleaned_Text=str1.join(Text)\n",
    "    #Remove numbers\n",
    "    Cleaned_Text=''.join([i for i in Cleaned_Text if not i.isdigit()])\n",
    "    # return string  \n",
    "    return (Cleaned_Text)\n",
    "    \n",
    "    \n",
    "df_text_balanced.Text=df_text_balanced.Text.apply(lambda text : cleaning_text(text))\n"
   ]
  },
  {
   "cell_type": "markdown",
   "metadata": {},
   "source": [
    "### Split Test & Training Data"
   ]
  },
  {
   "cell_type": "code",
   "execution_count": 93,
   "metadata": {
    "execution": {
     "iopub.execute_input": "2021-08-23T13:05:34.177238Z",
     "iopub.status.busy": "2021-08-23T13:05:34.176823Z",
     "iopub.status.idle": "2021-08-23T13:05:34.200903Z",
     "shell.execute_reply": "2021-08-23T13:05:34.199641Z",
     "shell.execute_reply.started": "2021-08-23T13:05:34.177205Z"
    }
   },
   "outputs": [],
   "source": [
    "X = df_text_balanced.iloc[:, 0].values\n",
    "y = df_text_balanced.iloc[:, -1].values\n",
    "X_train, X_test, y_train, y_test = train_test_split(X, y, test_size=0.3, random_state=42)"
   ]
  },
  {
   "cell_type": "markdown",
   "metadata": {},
   "source": [
    "### Text Embedding\n",
    " - Use `TfidfVectorizer`\n",
    " - `fit` on the training data only\n",
    " - `transform` on training and test "
   ]
  },
  {
   "cell_type": "code",
   "execution_count": 95,
   "metadata": {
    "execution": {
     "iopub.execute_input": "2021-08-23T13:05:34.804843Z",
     "iopub.status.busy": "2021-08-23T13:05:34.804488Z",
     "iopub.status.idle": "2021-08-23T13:05:48.346055Z",
     "shell.execute_reply": "2021-08-23T13:05:48.344837Z",
     "shell.execute_reply.started": "2021-08-23T13:05:34.804812Z"
    }
   },
   "outputs": [],
   "source": [
    "\n",
    "## TFIDF embedding for the Description\n",
    "vectorizer = TfidfVectorizer() ## Write your code here\n",
    "# fit on training (such vectorizer will be saved for deployment)\n",
    "vectorizer.fit(X_train)\n",
    "# transform on training data\n",
    "X_train = vectorizer.fit_transform(X_train)\n",
    "# transform on testing data\n",
    "X_test = vectorizer.transform(X_test)\n",
    "\n"
   ]
  },
  {
   "cell_type": "code",
   "execution_count": 96,
   "metadata": {
    "execution": {
     "iopub.execute_input": "2021-08-23T13:05:48.348408Z",
     "iopub.status.busy": "2021-08-23T13:05:48.348044Z",
     "iopub.status.idle": "2021-08-23T13:05:48.354681Z",
     "shell.execute_reply": "2021-08-23T13:05:48.353769Z",
     "shell.execute_reply.started": "2021-08-23T13:05:48.348372Z"
    }
   },
   "outputs": [
    {
     "data": {
      "text/plain": [
       "((79917, 69578), (34251, 69578))"
      ]
     },
     "execution_count": 96,
     "metadata": {},
     "output_type": "execute_result"
    }
   ],
   "source": [
    "# See the dimensions of your data embeddings before entering to the model\n",
    "X_train.shape,X_test.shape"
   ]
  },
  {
   "cell_type": "markdown",
   "metadata": {},
   "source": [
    "### Modelling"
   ]
  },
  {
   "cell_type": "code",
   "execution_count": 97,
   "metadata": {
    "execution": {
     "iopub.execute_input": "2021-08-23T13:05:48.356861Z",
     "iopub.status.busy": "2021-08-23T13:05:48.356533Z",
     "iopub.status.idle": "2021-08-23T13:05:48.370703Z",
     "shell.execute_reply": "2021-08-23T13:05:48.369309Z",
     "shell.execute_reply.started": "2021-08-23T13:05:48.356827Z"
    }
   },
   "outputs": [],
   "source": [
    "from sklearn.linear_model import LogisticRegression\n",
    "from sklearn.metrics import accuracy_score"
   ]
  },
  {
   "cell_type": "markdown",
   "metadata": {},
   "source": [
    "##### Sklearn framework steps\n",
    " - init\n",
    " - fit\n",
    " - predict"
   ]
  },
  {
   "cell_type": "code",
   "execution_count": 98,
   "metadata": {
    "execution": {
     "iopub.execute_input": "2021-08-23T13:05:48.373299Z",
     "iopub.status.busy": "2021-08-23T13:05:48.372847Z",
     "iopub.status.idle": "2021-08-23T13:05:51.296616Z",
     "shell.execute_reply": "2021-08-23T13:05:51.295458Z",
     "shell.execute_reply.started": "2021-08-23T13:05:48.373251Z"
    }
   },
   "outputs": [
    {
     "name": "stdout",
     "output_type": "stream",
     "text": [
      "Model Accuracy = 86.55%\n"
     ]
    }
   ],
   "source": [
    "## initialize your Model\n",
    "clf = LogisticRegression(solver='liblinear')\n",
    "\n",
    "# Fit your Model on the Training Dataset\n",
    "clf.fit(X_train, y_train)\n",
    "\n",
    "# Predict on Test data\n",
    "preds =  clf.predict(X_test)\n",
    "\n",
    "# Calculate Model Accuracy\n",
    "acc = accuracy_score(preds, y_test)\n",
    "print(f\"Model Accuracy = {round(acc*100,2)}%\")"
   ]
  },
  {
   "cell_type": "code",
   "execution_count": 99,
   "metadata": {},
   "outputs": [
    {
     "data": {
      "text/plain": [
       "(14859, 2214, 2392, 14786)"
      ]
     },
     "execution_count": 99,
     "metadata": {},
     "output_type": "execute_result"
    }
   ],
   "source": [
    "#we will make a confusion matrix\n",
    "from sklearn.metrics import confusion_matrix\n",
    "tn, fp, fn, tp = confusion_matrix(y_test, preds).ravel()\n",
    "tn, fp, fn, tp"
   ]
  },
  {
   "cell_type": "markdown",
   "metadata": {},
   "source": [
    "### Raw Instance Prediction"
   ]
  },
  {
   "cell_type": "code",
   "execution_count": 100,
   "metadata": {
    "execution": {
     "iopub.execute_input": "2021-08-23T13:05:51.298893Z",
     "iopub.status.busy": "2021-08-23T13:05:51.298438Z",
     "iopub.status.idle": "2021-08-23T13:05:51.305169Z",
     "shell.execute_reply": "2021-08-23T13:05:51.304084Z",
     "shell.execute_reply.started": "2021-08-23T13:05:51.298846Z"
    }
   },
   "outputs": [],
   "source": [
    "def raw_test(review, model, vectorizer):\n",
    "    # Clean Review\n",
    "    review_c = cleaning_text(review)\n",
    "    # Embed review using tf-idf vectorizer\n",
    "    embedding = vectorizer.transform([review_c])\n",
    "    # Predict using your model\n",
    "    prediction = model.predict(embedding)\n",
    "    # Return the Sentiment Prediction\n",
    "    return \"Positive\" if prediction == 1 else \"Negative\""
   ]
  },
  {
   "cell_type": "code",
   "execution_count": 101,
   "metadata": {
    "execution": {
     "iopub.execute_input": "2021-08-23T13:05:51.307384Z",
     "iopub.status.busy": "2021-08-23T13:05:51.306747Z",
     "iopub.status.idle": "2021-08-23T13:05:51.318677Z",
     "shell.execute_reply": "2021-08-23T13:05:51.317409Z",
     "shell.execute_reply.started": "2021-08-23T13:05:51.307335Z"
    }
   },
   "outputs": [],
   "source": [
    "review_1 = \"That's a good Dish, Good Job\"\n",
    "review_2 = \"That's the worst Dish ever tasted\""
   ]
  },
  {
   "cell_type": "code",
   "execution_count": 102,
   "metadata": {
    "execution": {
     "iopub.execute_input": "2021-08-23T13:05:51.320820Z",
     "iopub.status.busy": "2021-08-23T13:05:51.320359Z",
     "iopub.status.idle": "2021-08-23T13:05:51.340782Z",
     "shell.execute_reply": "2021-08-23T13:05:51.339140Z",
     "shell.execute_reply.started": "2021-08-23T13:05:51.320774Z"
    }
   },
   "outputs": [
    {
     "data": {
      "text/plain": [
       "'Positive'"
      ]
     },
     "execution_count": 102,
     "metadata": {},
     "output_type": "execute_result"
    }
   ],
   "source": [
    "raw_test(review_1, clf, vectorizer)"
   ]
  },
  {
   "cell_type": "code",
   "execution_count": 103,
   "metadata": {
    "execution": {
     "iopub.execute_input": "2021-08-23T13:05:51.343758Z",
     "iopub.status.busy": "2021-08-23T13:05:51.343326Z",
     "iopub.status.idle": "2021-08-23T13:05:51.355719Z",
     "shell.execute_reply": "2021-08-23T13:05:51.354293Z",
     "shell.execute_reply.started": "2021-08-23T13:05:51.343723Z"
    }
   },
   "outputs": [
    {
     "data": {
      "text/plain": [
       "'Negative'"
      ]
     },
     "execution_count": 103,
     "metadata": {},
     "output_type": "execute_result"
    }
   ],
   "source": [
    "raw_test(review_2, clf, vectorizer)"
   ]
  },
  {
   "cell_type": "markdown",
   "metadata": {},
   "source": [
    "### Saving Models for Deployment"
   ]
  },
  {
   "cell_type": "code",
   "execution_count": 104,
   "metadata": {
    "execution": {
     "iopub.execute_input": "2021-08-23T13:03:42.342292Z",
     "iopub.status.busy": "2021-08-23T13:03:42.341906Z",
     "iopub.status.idle": "2021-08-23T13:03:42.349679Z",
     "shell.execute_reply": "2021-08-23T13:03:42.348490Z",
     "shell.execute_reply.started": "2021-08-23T13:03:42.342242Z"
    }
   },
   "outputs": [],
   "source": [
    "import pickle"
   ]
  },
  {
   "cell_type": "code",
   "execution_count": 105,
   "metadata": {
    "execution": {
     "iopub.execute_input": "2021-08-23T13:03:42.352091Z",
     "iopub.status.busy": "2021-08-23T13:03:42.351643Z",
     "iopub.status.idle": "2021-08-23T13:03:42.368482Z",
     "shell.execute_reply": "2021-08-23T13:03:42.367143Z",
     "shell.execute_reply.started": "2021-08-23T13:03:42.352048Z"
    }
   },
   "outputs": [],
   "source": [
    "model_name = 'rf_model.pk'\n",
    "vectorizer_name = 'tfidf_vectorizer.pk'\n",
    "model_path = os.path.join('/', model_name)\n",
    "vect_path = os.path.join('/', vectorizer_name)\n",
    "\n",
    "pickle.dump(clf, open(model_name, 'wb'))\n",
    "pickle.dump(vectorizer, open(vectorizer_name, 'wb'))\n"
   ]
  },
  {
   "cell_type": "markdown",
   "metadata": {},
   "source": [
    "### Load model Again and test them"
   ]
  },
  {
   "cell_type": "code",
   "execution_count": 106,
   "metadata": {
    "execution": {
     "iopub.status.busy": "2021-08-23T12:51:15.818040Z",
     "iopub.status.idle": "2021-08-23T12:51:15.818734Z"
    }
   },
   "outputs": [],
   "source": [
    "loaded_model = pickle.load(open(model_name, 'rb'))\n",
    "loaded_vect = pickle.load(open(vectorizer_name, 'rb'))"
   ]
  },
  {
   "cell_type": "code",
   "execution_count": 107,
   "metadata": {
    "execution": {
     "iopub.status.busy": "2021-08-23T12:51:15.820262Z",
     "iopub.status.idle": "2021-08-23T12:51:15.820938Z"
    }
   },
   "outputs": [
    {
     "data": {
      "text/plain": [
       "'Positive'"
      ]
     },
     "execution_count": 107,
     "metadata": {},
     "output_type": "execute_result"
    }
   ],
   "source": [
    "raw_test(review_1, loaded_model, loaded_vect)"
   ]
  },
  {
   "cell_type": "code",
   "execution_count": 108,
   "metadata": {
    "execution": {
     "iopub.status.busy": "2021-08-23T12:51:15.822670Z",
     "iopub.status.idle": "2021-08-23T12:51:15.823384Z"
    }
   },
   "outputs": [
    {
     "data": {
      "text/plain": [
       "'Negative'"
      ]
     },
     "execution_count": 108,
     "metadata": {},
     "output_type": "execute_result"
    }
   ],
   "source": [
    "raw_test(review_2, loaded_model, loaded_vect)"
   ]
  },
  {
   "cell_type": "markdown",
   "metadata": {},
   "source": [
    "### Now, I will Deploy The ML model using Streamlit Framework"
   ]
  }
 ],
 "metadata": {
  "kernelspec": {
   "display_name": "Python 3",
   "language": "python",
   "name": "python3"
  },
  "language_info": {
   "codemirror_mode": {
    "name": "ipython",
    "version": 3
   },
   "file_extension": ".py",
   "mimetype": "text/x-python",
   "name": "python",
   "nbconvert_exporter": "python",
   "pygments_lexer": "ipython3",
   "version": "3.8.8"
  }
 },
 "nbformat": 4,
 "nbformat_minor": 4
}
